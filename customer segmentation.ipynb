{
 "cells": [
  {
   "cell_type": "markdown",
   "source": [
    "importing everything needed()"
   ],
   "metadata": {
    "collapsed": false
   }
  },
  {
   "cell_type": "code",
   "execution_count": 1,
   "metadata": {
    "collapsed": true
   },
   "outputs": [],
   "source": [
    "import pandas as pd\n",
    "import matplotlib.pyplot as plt\n",
    "import seaborn as sns\n",
    "import missingno as msno\n",
    "import numpy as np\n",
    "import nltk\n",
    "from nltk.corpus import stopwords\n",
    "from nltk.tokenize import word_tokenize\n",
    "from sklearn.feature_extraction.text import TfidfVectorizer\n",
    "from collections import defaultdict\n",
    "from sklearn.cluster import KMeans\n",
    "from sklearn.preprocessing import MaxAbsScaler\n",
    "import string\n",
    "from sklearn.metrics import silhouette_score\n",
    "from sklearn.ensemble import RandomForestClassifier\n",
    "from sklearn.model_selection import train_test_split\n",
    "from sklearn.model_selection import learning_curve\n",
    "from sklearn.model_selection import cross_val_score\n",
    "from sklearn.neighbors import KNeighborsClassifier\n",
    "from scipy.signal import savgol_filter\n",
    "from joblib import dump"
   ]
  },
  {
   "cell_type": "markdown",
   "source": [
    "reading file"
   ],
   "metadata": {
    "collapsed": false
   }
  },
  {
   "cell_type": "code",
   "execution_count": 2,
   "outputs": [],
   "source": [
    "df = pd.read_csv(r\"C:\\Users\\dimas\\OneDrive\\Studying Data\\e_commerce_retail_data.csv\",encoding='ansi')"
   ],
   "metadata": {
    "collapsed": false
   }
  },
  {
   "cell_type": "markdown",
   "source": [
    "taking a quick peek at the data"
   ],
   "metadata": {
    "collapsed": false
   }
  },
  {
   "cell_type": "code",
   "execution_count": 3,
   "outputs": [
    {
     "name": "stdout",
     "output_type": "stream",
     "text": [
      "Index(['InvoiceNo', 'StockCode', 'Description', 'Quantity', 'InvoiceDate',\n",
      "       'UnitPrice', 'CustomerID', 'Country'],\n",
      "      dtype='object') InvoiceNo       object\n",
      "StockCode       object\n",
      "Description     object\n",
      "Quantity         int64\n",
      "InvoiceDate     object\n",
      "UnitPrice      float64\n",
      "CustomerID     float64\n",
      "Country         object\n",
      "dtype: object   InvoiceNo StockCode                          Description  Quantity  \\\n",
      "0    536365    85123A   WHITE HANGING HEART T-LIGHT HOLDER         6   \n",
      "1    536365     71053                  WHITE METAL LANTERN         6   \n",
      "2    536365    84406B       CREAM CUPID HEARTS COAT HANGER         8   \n",
      "3    536365    84029G  KNITTED UNION FLAG HOT WATER BOTTLE         6   \n",
      "4    536365    84029E       RED WOOLLY HOTTIE WHITE HEART.         6   \n",
      "\n",
      "      InvoiceDate  UnitPrice  CustomerID         Country  \n",
      "0  12/1/2010 8:26       2.55     17850.0  United Kingdom  \n",
      "1  12/1/2010 8:26       3.39     17850.0  United Kingdom  \n",
      "2  12/1/2010 8:26       2.75     17850.0  United Kingdom  \n",
      "3  12/1/2010 8:26       3.39     17850.0  United Kingdom  \n",
      "4  12/1/2010 8:26       3.39     17850.0  United Kingdom  \n"
     ]
    }
   ],
   "source": [
    "print(df.columns,df.dtypes,df.head())"
   ],
   "metadata": {
    "collapsed": false
   }
  },
  {
   "cell_type": "markdown",
   "source": [
    "changing dtypes of some columns unto more suitable"
   ],
   "metadata": {
    "collapsed": false
   }
  },
  {
   "cell_type": "code",
   "execution_count": 4,
   "outputs": [],
   "source": [
    "df['CustomerID'] = np.round(df['CustomerID']).astype('category')\n",
    "df['InvoiceNo'] = df['InvoiceNo'].astype('category')\n",
    "df['StockCode'] = df['StockCode'].astype('category')\n",
    "df['InvoiceDate'] = pd.to_datetime(df['InvoiceDate'])"
   ],
   "metadata": {
    "collapsed": false
   }
  },
  {
   "cell_type": "code",
   "execution_count": 5,
   "outputs": [
    {
     "data": {
      "text/plain": "array(['United Kingdom', 'France', 'Australia', 'Netherlands', 'Germany',\n       'Norway', 'EIRE', 'Switzerland', 'Spain', 'Poland', 'Portugal',\n       'Italy', 'Belgium', 'Lithuania', 'Japan', 'Iceland',\n       'Channel Islands', 'Denmark', 'Cyprus', 'Sweden', 'Austria',\n       'Israel', 'Finland', 'Bahrain', 'Greece', 'Hong Kong', 'Singapore',\n       'Lebanon', 'United Arab Emirates', 'Saudi Arabia',\n       'Czech Republic', 'Canada', 'Unspecified', 'Brazil', 'USA',\n       'European Community', 'Malta', 'RSA'], dtype=object)"
     },
     "execution_count": 5,
     "metadata": {},
     "output_type": "execute_result"
    }
   ],
   "source": [
    "df['Country'].unique()"
   ],
   "metadata": {
    "collapsed": false
   }
  },
  {
   "cell_type": "markdown",
   "source": [
    "setting missing values for country column"
   ],
   "metadata": {
    "collapsed": false
   }
  },
  {
   "cell_type": "code",
   "execution_count": 6,
   "outputs": [],
   "source": [
    "df.loc[df['Country']=='Unspecified','Country'] = None\n",
    "df['Country'] = df['Country'].astype('category')"
   ],
   "metadata": {
    "collapsed": false
   }
  },
  {
   "cell_type": "markdown",
   "source": [
    "checking if hours(may prove to be useful later)"
   ],
   "metadata": {
    "collapsed": false
   }
  },
  {
   "cell_type": "code",
   "execution_count": 7,
   "outputs": [
    {
     "data": {
      "text/plain": "<AxesSubplot:ylabel='Frequency'>"
     },
     "execution_count": 7,
     "metadata": {},
     "output_type": "execute_result"
    },
    {
     "data": {
      "text/plain": "<Figure size 640x480 with 1 Axes>",
      "image/png": "[encoded data removed]"
     },
     "metadata": {},
     "output_type": "display_data"
    }
   ],
   "source": [
    "hours = df['InvoiceDate'].dt.hour\n",
    "hours.plot.hist()"
   ],
   "metadata": {
    "collapsed": false
   }
  },
  {
   "cell_type": "markdown",
   "source": [
    "visualizing missingness"
   ],
   "metadata": {
    "collapsed": false
   }
  },
  {
   "cell_type": "code",
   "execution_count": 8,
   "outputs": [
    {
     "name": "stdout",
     "output_type": "stream",
     "text": [
      "AxesSubplot(0.125,0.11;0.698618x0.77) AxesSubplot(0.125,0.11;0.62x0.77)\n"
     ]
    },
    {
     "data": {
      "text/plain": "<Figure size 2500x1000 with 2 Axes>",
      "image/png": "[encoded data removed]"
     },
     "metadata": {},
     "output_type": "display_data"
    },
    {
     "data": {
      "text/plain": "<Figure size 2000x1200 with 2 Axes>",
      "image/png": "[encoded data removed]"
     },
     "metadata": {},
     "output_type": "display_data"
    }
   ],
   "source": [
    "print(msno.matrix(df),msno.heatmap(df))"
   ],
   "metadata": {
    "collapsed": false
   }
  },
  {
   "cell_type": "markdown",
   "source": [
    "figuring out how many missing ids are there in percentage"
   ],
   "metadata": {
    "collapsed": false
   }
  },
  {
   "cell_type": "code",
   "execution_count": 9,
   "outputs": [
    {
     "name": "stdout",
     "output_type": "stream",
     "text": [
      "Percentage of missing values in column 'column_name': 24.93%\n"
     ]
    }
   ],
   "source": [
    "percent_missing = df['CustomerID'].isnull().mean() * 100\n",
    "print(f\"Percentage of missing values in column 'column_name': {percent_missing:.2f}%\")"
   ],
   "metadata": {
    "collapsed": false
   }
  },
  {
   "cell_type": "code",
   "execution_count": 10,
   "outputs": [
    {
     "name": "stdout",
     "output_type": "stream",
     "text": [
      "Percentage of missing values in the dataset: 3.16%\n"
     ]
    }
   ],
   "source": [
    "total_missing = df.isna().sum().sum()\n",
    "percentage_missing = (total_missing / df.size) * 100\n",
    "print(\"Percentage of missing values in the dataset: {:.2f}%\".format(percentage_missing))"
   ],
   "metadata": {
    "collapsed": false
   }
  },
  {
   "cell_type": "markdown",
   "source": [
    "During analysis of missingness distribution,I have decided to simply drop Na's because of 2 factors.\n",
    "1)There is no possible way to impute customer identificators at the moment,so that it would not introduce bias into the goals of our analysis(I have tested it,and clusters tend to become a complete mess)\n",
    "2)Missing values in other columns actually are distributed at random,and supposedly possible to impute,but due to their low number and my unfamiliarity with data it would not prove to be profitable"
   ],
   "metadata": {
    "collapsed": false
   }
  },
  {
   "cell_type": "code",
   "execution_count": 11,
   "outputs": [],
   "source": [
    "df = df.dropna()"
   ],
   "metadata": {
    "collapsed": false
   }
  },
  {
   "cell_type": "markdown",
   "source": [
    "creating a new column which tells if the transaction is cancelled(i have noticed that c in invoice number means that it is a cancel"
   ],
   "metadata": {
    "collapsed": false
   }
  },
  {
   "cell_type": "code",
   "execution_count": 12,
   "outputs": [],
   "source": [
    "df['order_canceled'] = df['InvoiceNo'].apply(lambda x:int('C' in x))\n",
    "df['order_canceled']=df['order_canceled'].astype('bool')"
   ],
   "metadata": {
    "collapsed": false
   }
  },
  {
   "cell_type": "code",
   "execution_count": 13,
   "outputs": [
    {
     "data": {
      "text/plain": "0.021901939323880616"
     },
     "execution_count": 13,
     "metadata": {},
     "output_type": "execute_result"
    }
   ],
   "source": [
    "df['order_canceled'].mean()"
   ],
   "metadata": {
    "collapsed": false
   }
  },
  {
   "cell_type": "markdown",
   "source": [
    "cross validating columns basing on them being a cancel(they can not have positive quantity,and must have a positive partner.Although some of them might have had a partner before the beginning of gathering data for that dataset,I dont have data for this.Also it is unlikely for date of canceled order to be smaller than date of it's partner"
   ],
   "metadata": {
    "collapsed": false
   }
  },
  {
   "cell_type": "code",
   "execution_count": 14,
   "outputs": [],
   "source": [
    "#copying dataframe so that i would avoid risks in process of checking it\n",
    "df_initial = df.copy(deep=True)\n",
    "df_cancel_analysis = df.copy(deep=True)\n",
    "df_cancel_analysis['QuantityCanceled'] = 0\n",
    "#creating arrays to entry untrustworthy data points\n",
    "to_remove = [] ; doubtful = []\n",
    "for index, col in  df_cancel_analysis.iterrows():\n",
    "    if (col['Quantity'] > 0) or col['Description'] == 'Discount': continue\n",
    "    df_test = df_initial[(df_initial['CustomerID'] == col['CustomerID']) &\n",
    "                         (df_initial['StockCode']  == col['StockCode']) &\n",
    "                         (df_initial['InvoiceDate'] < col['InvoiceDate']) &\n",
    "                         (df_initial['Quantity']   > 0)].copy()\n",
    "    if df_test.shape[0] == 0:\n",
    "        doubtful.append(index)\n",
    "    elif df_test.shape[0] == 1:\n",
    "        index_order = df_test.index[0]\n",
    "        df_cancel_analysis.loc[index_order, 'QuantityCanceled'] = -col['Quantity']\n",
    "        to_remove.append(index)\n",
    "    elif df_test.shape[0] > 1:\n",
    "        df_test.sort_index(axis=0 ,ascending=False, inplace = True)\n",
    "        for ind, val in df_test.iterrows():\n",
    "            if val['Quantity'] < -col['Quantity']: continue\n",
    "            df_cancel_analysis.loc[ind, 'QuantityCanceled'] = -col['Quantity']\n",
    "            to_remove.append(index)\n",
    "            break"
   ],
   "metadata": {
    "collapsed": false
   }
  },
  {
   "cell_type": "code",
   "execution_count": 15,
   "outputs": [
    {
     "name": "stdout",
     "output_type": "stream",
     "text": [
      "to_remove: 7543\n",
      "doubtful: 1229\n"
     ]
    }
   ],
   "source": [
    "print(\"to_remove: {}\".format(len(to_remove)))\n",
    "print(\"doubtful: {}\".format(len(doubtful)))"
   ],
   "metadata": {
    "collapsed": false
   }
  },
  {
   "cell_type": "markdown",
   "source": [
    "there is not a critical amount of them,so i will just remove them"
   ],
   "metadata": {
    "collapsed": false
   }
  },
  {
   "cell_type": "code",
   "execution_count": 16,
   "outputs": [],
   "source": [
    "df_cancel_analysis.drop(to_remove, axis = 0, inplace = True)\n",
    "df_cancel_analysis.drop(doubtful, axis = 0, inplace = True)"
   ],
   "metadata": {
    "collapsed": false
   }
  },
  {
   "cell_type": "code",
   "execution_count": 17,
   "outputs": [
    {
     "name": "stdout",
     "output_type": "stream",
     "text": [
      "to_remove: 7543\n",
      "doubtful: 1229\n"
     ]
    }
   ],
   "source": [
    "print(\"to_remove: {}\".format(len(to_remove)))\n",
    "print(\"doubtful: {}\".format(len(doubtful)))"
   ],
   "metadata": {
    "collapsed": false
   }
  },
  {
   "cell_type": "code",
   "execution_count": 18,
   "outputs": [
    {
     "data": {
      "text/plain": "(397813, 10)"
     },
     "execution_count": 18,
     "metadata": {},
     "output_type": "execute_result"
    }
   ],
   "source": [
    "df_cancel_analysis.shape"
   ],
   "metadata": {
    "collapsed": false
   }
  },
  {
   "cell_type": "code",
   "execution_count": 19,
   "outputs": [],
   "source": [
    "df = df_cancel_analysis"
   ],
   "metadata": {
    "collapsed": false
   }
  },
  {
   "cell_type": "markdown",
   "source": [
    "taking a control look"
   ],
   "metadata": {
    "collapsed": false
   }
  },
  {
   "cell_type": "code",
   "execution_count": 20,
   "outputs": [
    {
     "name": "stdout",
     "output_type": "stream",
     "text": [
      "(397813, 10) Index(['InvoiceNo', 'StockCode', 'Description', 'Quantity', 'InvoiceDate',\n",
      "       'UnitPrice', 'CustomerID', 'Country', 'order_canceled',\n",
      "       'QuantityCanceled'],\n",
      "      dtype='object') InvoiceNo                 category\n",
      "StockCode                 category\n",
      "Description                 object\n",
      "Quantity                     int64\n",
      "InvoiceDate         datetime64[ns]\n",
      "UnitPrice                  float64\n",
      "CustomerID                category\n",
      "Country                   category\n",
      "order_canceled                bool\n",
      "QuantityCanceled             int64\n",
      "dtype: object   InvoiceNo StockCode                          Description  Quantity  \\\n",
      "0    536365    85123A   WHITE HANGING HEART T-LIGHT HOLDER         6   \n",
      "1    536365     71053                  WHITE METAL LANTERN         6   \n",
      "2    536365    84406B       CREAM CUPID HEARTS COAT HANGER         8   \n",
      "3    536365    84029G  KNITTED UNION FLAG HOT WATER BOTTLE         6   \n",
      "4    536365    84029E       RED WOOLLY HOTTIE WHITE HEART.         6   \n",
      "\n",
      "          InvoiceDate  UnitPrice CustomerID         Country  order_canceled  \\\n",
      "0 2010-12-01 08:26:00       2.55    17850.0  United Kingdom           False   \n",
      "1 2010-12-01 08:26:00       3.39    17850.0  United Kingdom           False   \n",
      "2 2010-12-01 08:26:00       2.75    17850.0  United Kingdom           False   \n",
      "3 2010-12-01 08:26:00       3.39    17850.0  United Kingdom           False   \n",
      "4 2010-12-01 08:26:00       3.39    17850.0  United Kingdom           False   \n",
      "\n",
      "   QuantityCanceled  \n",
      "0                 0  \n",
      "1                 0  \n",
      "2                 0  \n",
      "3                 0  \n",
      "4                 0  \n"
     ]
    }
   ],
   "source": [
    "print(df.shape,df.columns,df.dtypes,df.head())"
   ],
   "metadata": {
    "collapsed": false
   }
  },
  {
   "cell_type": "markdown",
   "source": [
    "figuring out numerical outliers of orders"
   ],
   "metadata": {
    "collapsed": false
   }
  },
  {
   "cell_type": "code",
   "execution_count": 21,
   "outputs": [
    {
     "name": "stderr",
     "output_type": "stream",
     "text": [
      "C:\\Users\\dimas\\anaconda3\\lib\\site-packages\\seaborn\\_decorators.py:36: FutureWarning: Pass the following variable as a keyword arg: x. From version 0.12, the only valid positional argument will be `data`, and passing other arguments without an explicit keyword will result in an error or misinterpretation.\n",
      "  warnings.warn(\n"
     ]
    },
    {
     "data": {
      "text/plain": "<AxesSubplot:>"
     },
     "execution_count": 21,
     "metadata": {},
     "output_type": "execute_result"
    },
    {
     "data": {
      "text/plain": "<Figure size 640x480 with 1 Axes>",
      "image/png": "[encoded data removed]"
     },
     "metadata": {},
     "output_type": "display_data"
    }
   ],
   "source": [
    "sns.boxplot(df['Quantity']*df['UnitPrice'])"
   ],
   "metadata": {
    "collapsed": false
   }
  },
  {
   "cell_type": "markdown",
   "source": [
    "that column was needed only for crosss-validating the data,so I drop it now"
   ],
   "metadata": {
    "collapsed": false
   }
  },
  {
   "cell_type": "code",
   "execution_count": 22,
   "outputs": [],
   "source": [
    "df = df.drop('QuantityCanceled',axis=1)"
   ],
   "metadata": {
    "collapsed": false
   }
  },
  {
   "cell_type": "code",
   "execution_count": 23,
   "outputs": [
    {
     "name": "stdout",
     "output_type": "stream",
     "text": [
      "(397813, 9) InvoiceNo               category\n",
      "StockCode               category\n",
      "Description               object\n",
      "Quantity                   int64\n",
      "InvoiceDate       datetime64[ns]\n",
      "UnitPrice                float64\n",
      "CustomerID              category\n",
      "Country                 category\n",
      "order_canceled              bool\n",
      "dtype: object AxesSubplot(0.125,0.11;0.698618x0.77)\n"
     ]
    },
    {
     "data": {
      "text/plain": "<Figure size 2500x1000 with 2 Axes>",
      "image/png": "[encoded data removed]"
     },
     "metadata": {},
     "output_type": "display_data"
    }
   ],
   "source": [
    "print(df.shape,df.dtypes,msno.matrix(df))"
   ],
   "metadata": {
    "collapsed": false
   }
  },
  {
   "cell_type": "markdown",
   "source": [
    "dropping negative,zero,and really close to zero prices(they may appear due to data entry mistake)"
   ],
   "metadata": {
    "collapsed": false
   }
  },
  {
   "cell_type": "code",
   "execution_count": 24,
   "outputs": [],
   "source": [
    "df = df[df['UnitPrice']>0.001]"
   ],
   "metadata": {
    "collapsed": false
   }
  },
  {
   "cell_type": "code",
   "execution_count": 25,
   "outputs": [
    {
     "data": {
      "text/plain": "(397769, 9)"
     },
     "execution_count": 25,
     "metadata": {},
     "output_type": "execute_result"
    }
   ],
   "source": [
    "df.shape"
   ],
   "metadata": {
    "collapsed": false
   }
  },
  {
   "cell_type": "markdown",
   "source": [
    "dropping rows where it quantity is negative,but it is not a cancellation"
   ],
   "metadata": {
    "collapsed": false
   }
  },
  {
   "cell_type": "code",
   "execution_count": 26,
   "outputs": [],
   "source": [
    "df =df[(df['Quantity']<=0)^(df['order_canceled']==False)]"
   ],
   "metadata": {
    "collapsed": false
   }
  },
  {
   "cell_type": "code",
   "execution_count": 27,
   "outputs": [
    {
     "data": {
      "text/plain": "(397769, 9)"
     },
     "execution_count": 27,
     "metadata": {},
     "output_type": "execute_result"
    }
   ],
   "source": [
    "df.shape"
   ],
   "metadata": {
    "collapsed": false
   }
  },
  {
   "cell_type": "markdown",
   "source": [
    "counting rows where there quantity was zero(if there was too many of htem,it would need some deeper work)"
   ],
   "metadata": {
    "collapsed": false
   }
  },
  {
   "cell_type": "code",
   "execution_count": 28,
   "outputs": [
    {
     "name": "stdout",
     "output_type": "stream",
     "text": [
      "0\n"
     ]
    }
   ],
   "source": [
    "zero_quant =df.loc[df['Quantity']==0]\n",
    "length1= len(zero_quant)\n",
    "print(length1)"
   ],
   "metadata": {
    "collapsed": false
   }
  },
  {
   "cell_type": "markdown",
   "source": [
    "visualising quantity column(i have decided to give it more attention)"
   ],
   "metadata": {
    "collapsed": false
   }
  },
  {
   "cell_type": "code",
   "execution_count": 29,
   "outputs": [
    {
     "name": "stdout",
     "output_type": "stream",
     "text": [
      "count    397769.000000\n",
      "mean         12.981474\n",
      "std         179.362760\n",
      "min        -720.000000\n",
      "25%           2.000000\n",
      "50%           6.000000\n",
      "75%          12.000000\n",
      "max       80995.000000\n",
      "Name: Quantity, dtype: float64 AxesSubplot(0.125,0.11;0.775x0.77) count    397769.000000\n",
      "mean         12.993496\n",
      "std         179.361889\n",
      "min           1.000000\n",
      "25%           2.000000\n",
      "50%           6.000000\n",
      "75%          12.000000\n",
      "max       80995.000000\n",
      "Name: Quantity, dtype: float64\n"
     ]
    },
    {
     "name": "stderr",
     "output_type": "stream",
     "text": [
      "C:\\Users\\dimas\\anaconda3\\lib\\site-packages\\seaborn\\_decorators.py:36: FutureWarning: Pass the following variable as a keyword arg: x. From version 0.12, the only valid positional argument will be `data`, and passing other arguments without an explicit keyword will result in an error or misinterpretation.\n",
      "  warnings.warn(\n"
     ]
    },
    {
     "data": {
      "text/plain": "<Figure size 640x480 with 1 Axes>",
      "image/png": "[encoded data removed]"
     },
     "metadata": {},
     "output_type": "display_data"
    }
   ],
   "source": [
    "print(df['Quantity'].describe(),sns.boxplot(df['Quantity']),np.abs(df['Quantity']).describe())"
   ],
   "metadata": {
    "collapsed": false
   }
  },
  {
   "cell_type": "markdown",
   "source": [
    "I have noticed that outliers appear in orerds for manuals mostly so i will take a look at them"
   ],
   "metadata": {
    "collapsed": false
   }
  },
  {
   "cell_type": "code",
   "execution_count": 30,
   "outputs": [
    {
     "name": "stdout",
     "output_type": "stream",
     "text": [
      "count     286.000000\n",
      "mean      174.101573\n",
      "std       583.589729\n",
      "min         0.060000\n",
      "25%         0.440000\n",
      "50%         1.500000\n",
      "75%        12.300000\n",
      "max      4161.060000\n",
      "Name: UnitPrice, dtype: float64 200\n"
     ]
    }
   ],
   "source": [
    "print(df.loc[df['Description']==\"Manual\",'UnitPrice'].describe(),len(df.loc[df['UnitPrice']>100,'UnitPrice']))"
   ],
   "metadata": {
    "collapsed": false
   }
  },
  {
   "cell_type": "markdown",
   "source": [
    "trimming the most obnoxious outliers"
   ],
   "metadata": {
    "collapsed": false
   }
  },
  {
   "cell_type": "code",
   "execution_count": 31,
   "outputs": [],
   "source": [
    "df = df[np.abs(df['Quantity'])<10000]\n",
    "df = df[np.abs(df['UnitPrice'])<100]"
   ],
   "metadata": {
    "collapsed": false
   }
  },
  {
   "cell_type": "code",
   "execution_count": 32,
   "outputs": [
    {
     "data": {
      "text/plain": "<matplotlib.collections.PathCollection at 0x2893ba36100>"
     },
     "execution_count": 32,
     "metadata": {},
     "output_type": "execute_result"
    },
    {
     "data": {
      "text/plain": "<Figure size 640x480 with 1 Axes>",
      "image/png": "[encoded data removed]"
     },
     "metadata": {},
     "output_type": "display_data"
    }
   ],
   "source": [
    "plt.scatter(df['UnitPrice'],df['Quantity'])"
   ],
   "metadata": {
    "collapsed": false
   }
  },
  {
   "cell_type": "code",
   "execution_count": 33,
   "outputs": [
    {
     "data": {
      "text/plain": "InvoiceNo               category\nStockCode               category\nDescription               object\nQuantity                   int64\nInvoiceDate       datetime64[ns]\nUnitPrice                float64\nCustomerID              category\nCountry                 category\norder_canceled              bool\ndtype: object"
     },
     "execution_count": 33,
     "metadata": {},
     "output_type": "execute_result"
    }
   ],
   "source": [
    "df.dtypes"
   ],
   "metadata": {
    "collapsed": false
   }
  },
  {
   "cell_type": "markdown",
   "source": [
    "an overall column for the order prices(if i decide to do pricing clustering may be useful)"
   ],
   "metadata": {
    "collapsed": false
   }
  },
  {
   "cell_type": "code",
   "execution_count": 34,
   "outputs": [],
   "source": [
    "df['OrderPrice'] = df['UnitPrice']*df['Quantity']"
   ],
   "metadata": {
    "collapsed": false
   }
  },
  {
   "cell_type": "markdown",
   "source": [
    "adding a column for overall money spent for each customer"
   ],
   "metadata": {
    "collapsed": false
   }
  },
  {
   "cell_type": "code",
   "execution_count": 35,
   "outputs": [],
   "source": [
    "df['BasketPrice'] = df.groupby('CustomerID')['OrderPrice'].transform('sum')"
   ],
   "metadata": {
    "collapsed": false
   }
  },
  {
   "cell_type": "code",
   "execution_count": 36,
   "outputs": [
    {
     "data": {
      "text/plain": "  InvoiceNo StockCode                          Description  Quantity  \\\n0    536365    85123A   WHITE HANGING HEART T-LIGHT HOLDER         6   \n1    536365     71053                  WHITE METAL LANTERN         6   \n2    536365    84406B       CREAM CUPID HEARTS COAT HANGER         8   \n3    536365    84029G  KNITTED UNION FLAG HOT WATER BOTTLE         6   \n4    536365    84029E       RED WOOLLY HOTTIE WHITE HEART.         6   \n\n          InvoiceDate  UnitPrice CustomerID         Country  order_canceled  \\\n0 2010-12-01 08:26:00       2.55    17850.0  United Kingdom           False   \n1 2010-12-01 08:26:00       3.39    17850.0  United Kingdom           False   \n2 2010-12-01 08:26:00       2.75    17850.0  United Kingdom           False   \n3 2010-12-01 08:26:00       3.39    17850.0  United Kingdom           False   \n4 2010-12-01 08:26:00       3.39    17850.0  United Kingdom           False   \n\n   OrderPrice  BasketPrice  \n0       15.30      5391.21  \n1       20.34      5391.21  \n2       22.00      5391.21  \n3       20.34      5391.21  \n4       20.34      5391.21  ",
      "text/html": "<div>\n<style scoped>\n    .dataframe tbody tr th:only-of-type {\n        vertical-align: middle;\n    }\n\n    .dataframe tbody tr th {\n        vertical-align: top;\n    }\n\n    .dataframe thead th {\n        text-align: right;\n    }\n</style>\n<table border=\"1\" class=\"dataframe\">\n  <thead>\n    <tr style=\"text-align: right;\">\n      <th></th>\n      <th>InvoiceNo</th>\n      <th>StockCode</th>\n      <th>Description</th>\n      <th>Quantity</th>\n      <th>InvoiceDate</th>\n      <th>UnitPrice</th>\n      <th>CustomerID</th>\n      <th>Country</th>\n      <th>order_canceled</th>\n      <th>OrderPrice</th>\n      <th>BasketPrice</th>\n    </tr>\n  </thead>\n  <tbody>\n    <tr>\n      <th>0</th>\n      <td>536365</td>\n      <td>85123A</td>\n      <td>WHITE HANGING HEART T-LIGHT HOLDER</td>\n      <td>6</td>\n      <td>2010-12-01 08:26:00</td>\n      <td>2.55</td>\n      <td>17850.0</td>\n      <td>United Kingdom</td>\n      <td>False</td>\n      <td>15.30</td>\n      <td>5391.21</td>\n    </tr>\n    <tr>\n      <th>1</th>\n      <td>536365</td>\n      <td>71053</td>\n      <td>WHITE METAL LANTERN</td>\n      <td>6</td>\n      <td>2010-12-01 08:26:00</td>\n      <td>3.39</td>\n      <td>17850.0</td>\n      <td>United Kingdom</td>\n      <td>False</td>\n      <td>20.34</td>\n      <td>5391.21</td>\n    </tr>\n    <tr>\n      <th>2</th>\n      <td>536365</td>\n      <td>84406B</td>\n      <td>CREAM CUPID HEARTS COAT HANGER</td>\n      <td>8</td>\n      <td>2010-12-01 08:26:00</td>\n      <td>2.75</td>\n      <td>17850.0</td>\n      <td>United Kingdom</td>\n      <td>False</td>\n      <td>22.00</td>\n      <td>5391.21</td>\n    </tr>\n    <tr>\n      <th>3</th>\n      <td>536365</td>\n      <td>84029G</td>\n      <td>KNITTED UNION FLAG HOT WATER BOTTLE</td>\n      <td>6</td>\n      <td>2010-12-01 08:26:00</td>\n      <td>3.39</td>\n      <td>17850.0</td>\n      <td>United Kingdom</td>\n      <td>False</td>\n      <td>20.34</td>\n      <td>5391.21</td>\n    </tr>\n    <tr>\n      <th>4</th>\n      <td>536365</td>\n      <td>84029E</td>\n      <td>RED WOOLLY HOTTIE WHITE HEART.</td>\n      <td>6</td>\n      <td>2010-12-01 08:26:00</td>\n      <td>3.39</td>\n      <td>17850.0</td>\n      <td>United Kingdom</td>\n      <td>False</td>\n      <td>20.34</td>\n      <td>5391.21</td>\n    </tr>\n  </tbody>\n</table>\n</div>"
     },
     "execution_count": 36,
     "metadata": {},
     "output_type": "execute_result"
    }
   ],
   "source": [
    "df.head()"
   ],
   "metadata": {
    "collapsed": false
   }
  },
  {
   "cell_type": "markdown",
   "source": [
    "split,then remove unneeded words,then tokenize the remaining ones"
   ],
   "metadata": {
    "collapsed": false
   }
  },
  {
   "cell_type": "code",
   "execution_count": 37,
   "outputs": [
    {
     "name": "stderr",
     "output_type": "stream",
     "text": [
      "[nltk_data] Downloading package punkt to\n",
      "[nltk_data]     C:\\Users\\dimas\\AppData\\Roaming\\nltk_data...\n",
      "[nltk_data]   Package punkt is already up-to-date!\n",
      "[nltk_data] Downloading package stopwords to\n",
      "[nltk_data]     C:\\Users\\dimas\\AppData\\Roaming\\nltk_data...\n",
      "[nltk_data]   Package stopwords is already up-to-date!\n"
     ]
    }
   ],
   "source": [
    "nltk.download('punkt')\n",
    "nltk.download('stopwords')\n",
    "stop_words = set(stopwords.words('english'))\n",
    "df['Description'] = df['Description'].apply(lambda x: \" \".join([word for word in word_tokenize(x.lower()) if word not in stop_words]))"
   ],
   "metadata": {
    "collapsed": false
   }
  },
  {
   "cell_type": "markdown",
   "source": [
    "vectorising everything.I have chosen tfid because count vectoriser is not that suited for clustering,and other vectoriser differ in the usage even further"
   ],
   "metadata": {
    "collapsed": false
   }
  },
  {
   "cell_type": "code",
   "execution_count": 38,
   "outputs": [],
   "source": [
    "vectorizer = TfidfVectorizer()\n",
    "tfidf_scores = vectorizer.fit_transform(df['Description'])\n",
    "keywords = set(vectorizer.get_feature_names_out())\n",
    "categories = defaultdict(list)"
   ],
   "metadata": {
    "collapsed": false
   }
  },
  {
   "cell_type": "markdown",
   "source": [
    "making a column for words in description(may be used later)"
   ],
   "metadata": {
    "collapsed": false
   }
  },
  {
   "cell_type": "code",
   "execution_count": 39,
   "outputs": [],
   "source": [
    "df['Words'] = df['Description'].apply(word_tokenize)\n",
    "df['Words'] = df['Words'].apply(set)"
   ],
   "metadata": {
    "collapsed": false
   }
  },
  {
   "cell_type": "markdown",
   "source": [
    "creating actual categories"
   ],
   "metadata": {
    "collapsed": false
   }
  },
  {
   "cell_type": "code",
   "execution_count": 40,
   "outputs": [],
   "source": [
    "def categorize(row):\n",
    "    words = row['Words']\n",
    "    for word in keywords & words:\n",
    "        categories[word].append(row['Description'])"
   ],
   "metadata": {
    "collapsed": false
   }
  },
  {
   "cell_type": "code",
   "execution_count": 41,
   "outputs": [
    {
     "data": {
      "text/plain": "0         None\n1         None\n2         None\n3         None\n4         None\n          ... \n541904    None\n541905    None\n541906    None\n541907    None\n541908    None\nLength: 397567, dtype: object"
     },
     "execution_count": 41,
     "metadata": {},
     "output_type": "execute_result"
    }
   ],
   "source": [
    "df.apply(categorize, axis=1)"
   ],
   "metadata": {
    "collapsed": false
   }
  },
  {
   "cell_type": "code",
   "execution_count": 42,
   "outputs": [
    {
     "data": {
      "text/plain": "  InvoiceNo StockCode                          Description  Quantity  \\\n0    536365    85123A   white hanging heart t-light holder         6   \n1    536365     71053                  white metal lantern         6   \n2    536365    84406B       cream cupid hearts coat hanger         8   \n3    536365    84029G  knitted union flag hot water bottle         6   \n4    536365    84029E      red woolly hottie white heart .         6   \n\n          InvoiceDate  UnitPrice CustomerID         Country  order_canceled  \\\n0 2010-12-01 08:26:00       2.55    17850.0  United Kingdom           False   \n1 2010-12-01 08:26:00       3.39    17850.0  United Kingdom           False   \n2 2010-12-01 08:26:00       2.75    17850.0  United Kingdom           False   \n3 2010-12-01 08:26:00       3.39    17850.0  United Kingdom           False   \n4 2010-12-01 08:26:00       3.39    17850.0  United Kingdom           False   \n\n   OrderPrice  BasketPrice                                       Words  \n0       15.30      5391.21    {white, heart, holder, t-light, hanging}  \n1       20.34      5391.21                     {white, lantern, metal}  \n2       22.00      5391.21        {coat, hearts, hanger, cream, cupid}  \n3       20.34      5391.21  {flag, union, hot, bottle, knitted, water}  \n4       20.34      5391.21      {white, hottie, heart, red, ., woolly}  ",
      "text/html": "<div>\n<style scoped>\n    .dataframe tbody tr th:only-of-type {\n        vertical-align: middle;\n    }\n\n    .dataframe tbody tr th {\n        vertical-align: top;\n    }\n\n    .dataframe thead th {\n        text-align: right;\n    }\n</style>\n<table border=\"1\" class=\"dataframe\">\n  <thead>\n    <tr style=\"text-align: right;\">\n      <th></th>\n      <th>InvoiceNo</th>\n      <th>StockCode</th>\n      <th>Description</th>\n      <th>Quantity</th>\n      <th>InvoiceDate</th>\n      <th>UnitPrice</th>\n      <th>CustomerID</th>\n      <th>Country</th>\n      <th>order_canceled</th>\n      <th>OrderPrice</th>\n      <th>BasketPrice</th>\n      <th>Words</th>\n    </tr>\n  </thead>\n  <tbody>\n    <tr>\n      <th>0</th>\n      <td>536365</td>\n      <td>85123A</td>\n      <td>white hanging heart t-light holder</td>\n      <td>6</td>\n      <td>2010-12-01 08:26:00</td>\n      <td>2.55</td>\n      <td>17850.0</td>\n      <td>United Kingdom</td>\n      <td>False</td>\n      <td>15.30</td>\n      <td>5391.21</td>\n      <td>{white, heart, holder, t-light, hanging}</td>\n    </tr>\n    <tr>\n      <th>1</th>\n      <td>536365</td>\n      <td>71053</td>\n      <td>white metal lantern</td>\n      <td>6</td>\n      <td>2010-12-01 08:26:00</td>\n      <td>3.39</td>\n      <td>17850.0</td>\n      <td>United Kingdom</td>\n      <td>False</td>\n      <td>20.34</td>\n      <td>5391.21</td>\n      <td>{white, lantern, metal}</td>\n    </tr>\n    <tr>\n      <th>2</th>\n      <td>536365</td>\n      <td>84406B</td>\n      <td>cream cupid hearts coat hanger</td>\n      <td>8</td>\n      <td>2010-12-01 08:26:00</td>\n      <td>2.75</td>\n      <td>17850.0</td>\n      <td>United Kingdom</td>\n      <td>False</td>\n      <td>22.00</td>\n      <td>5391.21</td>\n      <td>{coat, hearts, hanger, cream, cupid}</td>\n    </tr>\n    <tr>\n      <th>3</th>\n      <td>536365</td>\n      <td>84029G</td>\n      <td>knitted union flag hot water bottle</td>\n      <td>6</td>\n      <td>2010-12-01 08:26:00</td>\n      <td>3.39</td>\n      <td>17850.0</td>\n      <td>United Kingdom</td>\n      <td>False</td>\n      <td>20.34</td>\n      <td>5391.21</td>\n      <td>{flag, union, hot, bottle, knitted, water}</td>\n    </tr>\n    <tr>\n      <th>4</th>\n      <td>536365</td>\n      <td>84029E</td>\n      <td>red woolly hottie white heart .</td>\n      <td>6</td>\n      <td>2010-12-01 08:26:00</td>\n      <td>3.39</td>\n      <td>17850.0</td>\n      <td>United Kingdom</td>\n      <td>False</td>\n      <td>20.34</td>\n      <td>5391.21</td>\n      <td>{white, hottie, heart, red, ., woolly}</td>\n    </tr>\n  </tbody>\n</table>\n</div>"
     },
     "execution_count": 42,
     "metadata": {},
     "output_type": "execute_result"
    }
   ],
   "source": [
    "df.head()"
   ],
   "metadata": {
    "collapsed": false
   }
  },
  {
   "cell_type": "markdown",
   "source": [
    "removing colors"
   ],
   "metadata": {
    "collapsed": false
   }
  },
  {
   "cell_type": "code",
   "execution_count": 43,
   "outputs": [],
   "source": [
    "colors = ['red', 'blue', 'green', 'yellow', 'orange', 'purple', 'pink', 'black', 'white', 'grey','polkadot']\n",
    "df['Description'] = df['Description'].str.lower().apply(lambda x: ' '.join([word for word in x.split() if word not in colors]))"
   ],
   "metadata": {
    "collapsed": false
   }
  },
  {
   "cell_type": "markdown",
   "source": [
    "removing punctuation"
   ],
   "metadata": {
    "collapsed": false
   }
  },
  {
   "cell_type": "code",
   "execution_count": 44,
   "outputs": [],
   "source": [
    "signs = string.punctuation\n",
    "df['Description'] = df['Description'].apply(lambda x: ''.join([char for char in x if char not in signs]))"
   ],
   "metadata": {
    "collapsed": false
   }
  },
  {
   "cell_type": "markdown",
   "source": [
    "checking what is considered punctuation in that module"
   ],
   "metadata": {
    "collapsed": false
   }
  },
  {
   "cell_type": "code",
   "execution_count": 45,
   "outputs": [
    {
     "data": {
      "text/plain": "'!\"#$%&\\'()*+,-./:;<=>?@[\\\\]^_`{|}~'"
     },
     "execution_count": 45,
     "metadata": {},
     "output_type": "execute_result"
    }
   ],
   "source": [
    "signs"
   ],
   "metadata": {
    "collapsed": false
   }
  },
  {
   "cell_type": "code",
   "execution_count": 46,
   "outputs": [],
   "source": [
    "df = df.drop('Words',axis=1)"
   ],
   "metadata": {
    "collapsed": false
   }
  },
  {
   "cell_type": "code",
   "execution_count": 47,
   "outputs": [
    {
     "data": {
      "text/plain": "InvoiceNo               category\nStockCode               category\nDescription               object\nQuantity                   int64\nInvoiceDate       datetime64[ns]\nUnitPrice                float64\nCustomerID              category\nCountry                 category\norder_canceled              bool\nOrderPrice               float64\nBasketPrice              float64\ndtype: object"
     },
     "execution_count": 47,
     "metadata": {},
     "output_type": "execute_result"
    }
   ],
   "source": [
    "df.dtypes"
   ],
   "metadata": {
    "collapsed": false
   }
  },
  {
   "cell_type": "markdown",
   "source": [
    "trying to figure out optimal cluster number using elbow method(neither it nor silhouette score worked well but t shows at least some pattern,and IS computable unlike silhouette-score"
   ],
   "metadata": {
    "collapsed": false
   }
  },
  {
   "cell_type": "code",
   "execution_count": 48,
   "outputs": [],
   "source": [
    "word_counts = df['Description'].str.split().apply(pd.Series).stack().value_counts()"
   ],
   "metadata": {
    "collapsed": false
   }
  },
  {
   "cell_type": "code",
   "execution_count": 49,
   "outputs": [
    {
     "data": {
      "text/plain": "<Figure size 640x480 with 1 Axes>",
      "image/png": "[encoded data removed]"
     },
     "metadata": {},
     "output_type": "display_data"
    }
   ],
   "source": [
    "cumulative_sum = np.cumsum(word_counts / word_counts.sum())\n",
    "plt.plot(cumulative_sum)\n",
    "plt.xlabel('Number of words')\n",
    "plt.ylabel('Cumulative sum of frequencies')\n",
    "plt.title('Elbow method plot')\n",
    "plt.show()"
   ],
   "metadata": {
    "collapsed": false
   }
  },
  {
   "cell_type": "code",
   "execution_count": 50,
   "outputs": [
    {
     "data": {
      "text/plain": "  InvoiceNo StockCode                          Description  Quantity  \\\n0    536365    85123A          hanging heart tlight holder         6   \n1    536365     71053                        metal lantern         6   \n2    536365    84406B       cream cupid hearts coat hanger         8   \n3    536365    84029G  knitted union flag hot water bottle         6   \n4    536365    84029E                 woolly hottie heart          6   \n\n          InvoiceDate  UnitPrice CustomerID         Country  order_canceled  \\\n0 2010-12-01 08:26:00       2.55    17850.0  United Kingdom           False   \n1 2010-12-01 08:26:00       3.39    17850.0  United Kingdom           False   \n2 2010-12-01 08:26:00       2.75    17850.0  United Kingdom           False   \n3 2010-12-01 08:26:00       3.39    17850.0  United Kingdom           False   \n4 2010-12-01 08:26:00       3.39    17850.0  United Kingdom           False   \n\n   OrderPrice  BasketPrice  \n0       15.30      5391.21  \n1       20.34      5391.21  \n2       22.00      5391.21  \n3       20.34      5391.21  \n4       20.34      5391.21  ",
      "text/html": "<div>\n<style scoped>\n    .dataframe tbody tr th:only-of-type {\n        vertical-align: middle;\n    }\n\n    .dataframe tbody tr th {\n        vertical-align: top;\n    }\n\n    .dataframe thead th {\n        text-align: right;\n    }\n</style>\n<table border=\"1\" class=\"dataframe\">\n  <thead>\n    <tr style=\"text-align: right;\">\n      <th></th>\n      <th>InvoiceNo</th>\n      <th>StockCode</th>\n      <th>Description</th>\n      <th>Quantity</th>\n      <th>InvoiceDate</th>\n      <th>UnitPrice</th>\n      <th>CustomerID</th>\n      <th>Country</th>\n      <th>order_canceled</th>\n      <th>OrderPrice</th>\n      <th>BasketPrice</th>\n    </tr>\n  </thead>\n  <tbody>\n    <tr>\n      <th>0</th>\n      <td>536365</td>\n      <td>85123A</td>\n      <td>hanging heart tlight holder</td>\n      <td>6</td>\n      <td>2010-12-01 08:26:00</td>\n      <td>2.55</td>\n      <td>17850.0</td>\n      <td>United Kingdom</td>\n      <td>False</td>\n      <td>15.30</td>\n      <td>5391.21</td>\n    </tr>\n    <tr>\n      <th>1</th>\n      <td>536365</td>\n      <td>71053</td>\n      <td>metal lantern</td>\n      <td>6</td>\n      <td>2010-12-01 08:26:00</td>\n      <td>3.39</td>\n      <td>17850.0</td>\n      <td>United Kingdom</td>\n      <td>False</td>\n      <td>20.34</td>\n      <td>5391.21</td>\n    </tr>\n    <tr>\n      <th>2</th>\n      <td>536365</td>\n      <td>84406B</td>\n      <td>cream cupid hearts coat hanger</td>\n      <td>8</td>\n      <td>2010-12-01 08:26:00</td>\n      <td>2.75</td>\n      <td>17850.0</td>\n      <td>United Kingdom</td>\n      <td>False</td>\n      <td>22.00</td>\n      <td>5391.21</td>\n    </tr>\n    <tr>\n      <th>3</th>\n      <td>536365</td>\n      <td>84029G</td>\n      <td>knitted union flag hot water bottle</td>\n      <td>6</td>\n      <td>2010-12-01 08:26:00</td>\n      <td>3.39</td>\n      <td>17850.0</td>\n      <td>United Kingdom</td>\n      <td>False</td>\n      <td>20.34</td>\n      <td>5391.21</td>\n    </tr>\n    <tr>\n      <th>4</th>\n      <td>536365</td>\n      <td>84029E</td>\n      <td>woolly hottie heart</td>\n      <td>6</td>\n      <td>2010-12-01 08:26:00</td>\n      <td>3.39</td>\n      <td>17850.0</td>\n      <td>United Kingdom</td>\n      <td>False</td>\n      <td>20.34</td>\n      <td>5391.21</td>\n    </tr>\n  </tbody>\n</table>\n</div>"
     },
     "execution_count": 50,
     "metadata": {},
     "output_type": "execute_result"
    }
   ],
   "source": [
    "df.head()"
   ],
   "metadata": {
    "collapsed": false
   }
  },
  {
   "cell_type": "markdown",
   "source": [
    "again using vectoriser for the prepared column"
   ],
   "metadata": {
    "collapsed": false
   }
  },
  {
   "cell_type": "code",
   "execution_count": 51,
   "outputs": [],
   "source": [
    "vectorizer = TfidfVectorizer()\n",
    "X = vectorizer.fit_transform(df['Description'])"
   ],
   "metadata": {
    "collapsed": false
   }
  },
  {
   "cell_type": "markdown",
   "source": [
    "using kmeans for clustering(minibatchers or paralel processing were not needed due to the small size of dataset)"
   ],
   "metadata": {
    "collapsed": false
   }
  },
  {
   "cell_type": "code",
   "execution_count": null,
   "outputs": [
    {
     "ename": "KeyboardInterrupt",
     "evalue": "",
     "output_type": "error",
     "traceback": [
      "\u001B[1;31m---------------------------------------------------------------------------\u001B[0m",
      "\u001B[1;31mKeyboardInterrupt\u001B[0m                         Traceback (most recent call last)",
      "\u001B[1;32m<__array_function__ internals>\u001B[0m in \u001B[0;36mwhere\u001B[1;34m(*args, **kwargs)\u001B[0m\n",
      "\u001B[1;31mKeyboardInterrupt\u001B[0m: "
     ]
    },
    {
     "name": "stderr",
     "output_type": "stream",
     "text": [
      "Exception ignored in: 'sklearn.cluster._k_means_common._relocate_empty_clusters_sparse'\n",
      "Traceback (most recent call last):\n",
      "  File \"<__array_function__ internals>\", line 2, in where\n",
      "KeyboardInterrupt: \n"
     ]
    }
   ],
   "source": [
    "kmeans = KMeans(n_clusters=5)\n",
    "kmeans.fit(X)"
   ],
   "metadata": {
    "collapsed": false
   }
  },
  {
   "cell_type": "code",
   "execution_count": null,
   "outputs": [],
   "source": [
    "df['ProductCluster'] = kmeans.labels_\n",
    "df['ProductCluster'] = df['ProductCluster'].astype('category')"
   ],
   "metadata": {
    "collapsed": false
   }
  },
  {
   "cell_type": "code",
   "execution_count": null,
   "outputs": [],
   "source": [
    "df.head()"
   ],
   "metadata": {
    "collapsed": false
   }
  },
  {
   "cell_type": "code",
   "execution_count": null,
   "outputs": [],
   "source": [
    "df['InvoiceDayOfWeek'] = df['InvoiceDate'].dt.dayofweek"
   ],
   "metadata": {
    "collapsed": false
   }
  },
  {
   "cell_type": "markdown",
   "source": [
    "now i copy unchanged dataset to prepare it for customer segmentation"
   ],
   "metadata": {
    "collapsed": false
   }
  },
  {
   "cell_type": "code",
   "execution_count": null,
   "outputs": [],
   "source": [
    "df_advert = df.copy(deep=True)"
   ],
   "metadata": {
    "collapsed": false
   }
  },
  {
   "cell_type": "code",
   "execution_count": null,
   "outputs": [],
   "source": [
    "col_to_drop =['InvoiceNo','Description','order_canceled','StockCode']"
   ],
   "metadata": {
    "collapsed": false
   }
  },
  {
   "cell_type": "code",
   "execution_count": null,
   "outputs": [],
   "source": [
    "df_advert = df_advert.drop(col_to_drop,axis=1)"
   ],
   "metadata": {
    "collapsed": false
   }
  },
  {
   "cell_type": "code",
   "execution_count": null,
   "outputs": [],
   "source": [
    "print(df_advert.head(),df_advert.dtypes)"
   ],
   "metadata": {
    "collapsed": false
   }
  },
  {
   "cell_type": "markdown",
   "source": [
    "prepare columns for pricing groups"
   ],
   "metadata": {
    "collapsed": false
   }
  },
  {
   "cell_type": "code",
   "execution_count": null,
   "outputs": [],
   "source": [
    "df_advert['MeanOrdPrice'] = df_advert.groupby('CustomerID')['OrderPrice'].transform('mean')\n",
    "df_advert['MeanUnitPrice'] = df_advert.groupby('CustomerID')['UnitPrice'].transform('mean')\n",
    "df_advert['StdOrdPrice'] = df_advert.groupby('CustomerID')['OrderPrice'].transform('std')\n",
    "df_advert['StdUnitPrice'] = df_advert.groupby('CustomerID')['UnitPrice'].transform('std')"
   ],
   "metadata": {
    "collapsed": false
   }
  },
  {
   "cell_type": "markdown",
   "source": [
    "dropping unneeded columns because they might wreck results and WILL slow down computations"
   ],
   "metadata": {
    "collapsed": false
   }
  },
  {
   "cell_type": "code",
   "execution_count": null,
   "outputs": [],
   "source": [
    "df_advert = df_advert.drop(['InvoiceDate','InvoiceDayOfWeek','Quantity','OrderPrice','UnitPrice'],axis=1)"
   ],
   "metadata": {
    "collapsed": false
   }
  },
  {
   "cell_type": "markdown",
   "source": [
    "splitting dataset into data for interests clustering and pricing clustering"
   ],
   "metadata": {
    "collapsed": false
   }
  },
  {
   "cell_type": "code",
   "execution_count": null,
   "outputs": [],
   "source": [
    "df_advert_prod = df_advert[['ProductCluster','MeanUnitPrice','CustomerID']]\n",
    "df_advert_price = df_advert.drop(['ProductCluster','Country'],axis=1)"
   ],
   "metadata": {
    "collapsed": false
   }
  },
  {
   "cell_type": "markdown",
   "source": [
    "Now I will be doing only clustering based on interests(pricing data is actually prepared \"just in case\""
   ],
   "metadata": {
    "collapsed": false
   }
  },
  {
   "cell_type": "code",
   "execution_count": null,
   "outputs": [],
   "source": [
    "df_advert_prod.head(15)"
   ],
   "metadata": {
    "collapsed": false
   }
  },
  {
   "cell_type": "code",
   "execution_count": null,
   "outputs": [],
   "source": [
    "df_advert_prod.dtypes"
   ],
   "metadata": {
    "collapsed": false
   }
  },
  {
   "cell_type": "markdown",
   "source": [
    "one-hot encoding products in orders and grouping by customer(i have anticipated this in the beginning,nd that is actually the reason for dropping rows with missing customer id's)"
   ],
   "metadata": {
    "collapsed": false
   }
  },
  {
   "cell_type": "code",
   "execution_count": null,
   "outputs": [],
   "source": [
    "df_advert_prod = pd.get_dummies(df_advert_prod, columns=['ProductCluster'])\n",
    "grouped_df = df_advert_prod.groupby('CustomerID').sum()\n",
    "df_advert_prod = grouped_df.reset_index()"
   ],
   "metadata": {
    "collapsed": false
   }
  },
  {
   "cell_type": "markdown",
   "source": [
    "dropping duplicated data(now i have managed to get all the data about a single customer which interests me in this ase in one row)"
   ],
   "metadata": {
    "collapsed": false
   }
  },
  {
   "cell_type": "code",
   "execution_count": null,
   "outputs": [],
   "source": [
    "df_advert_prod=df_advert_prod.drop_duplicates()"
   ],
   "metadata": {
    "collapsed": false
   }
  },
  {
   "cell_type": "code",
   "execution_count": null,
   "outputs": [],
   "source": [
    "df_advert_prod.head()"
   ],
   "metadata": {
    "collapsed": false
   }
  },
  {
   "cell_type": "markdown",
   "source": [
    "and now dropping id's,they were needed only for preprocessing"
   ],
   "metadata": {
    "collapsed": false
   }
  },
  {
   "cell_type": "code",
   "execution_count": null,
   "outputs": [],
   "source": [
    "df_advert_prod=df_advert_prod.drop('CustomerID',axis=1)"
   ],
   "metadata": {
    "collapsed": false
   }
  },
  {
   "cell_type": "code",
   "execution_count": null,
   "outputs": [],
   "source": [
    "df_advert_prod.shape"
   ],
   "metadata": {
    "collapsed": false
   }
  },
  {
   "cell_type": "markdown",
   "source": [
    "i have actually left it here because custering turned out to be better with"
   ],
   "metadata": {
    "collapsed": false
   }
  },
  {
   "cell_type": "code",
   "execution_count": null,
   "outputs": [],
   "source": [
    "sns.boxplot(df_advert_prod['MeanUnitPrice'])"
   ],
   "metadata": {
    "collapsed": false
   }
  },
  {
   "cell_type": "code",
   "execution_count": null,
   "outputs": [],
   "source": [
    "df_advert_prod = df_advert_prod[df_advert_prod['MeanUnitPrice']<1000]"
   ],
   "metadata": {
    "collapsed": false
   }
  },
  {
   "cell_type": "code",
   "execution_count": null,
   "outputs": [],
   "source": [
    "sns.boxplot(df_advert_prod['MeanUnitPrice'])"
   ],
   "metadata": {
    "collapsed": false
   }
  },
  {
   "cell_type": "code",
   "execution_count": null,
   "outputs": [],
   "source": [
    "df_advert_prod.describe()"
   ],
   "metadata": {
    "collapsed": false
   }
  },
  {
   "cell_type": "markdown",
   "source": [
    "scaling(i have actually tried multiple scalers just to check,but as expected,abs scaler show the best performance on a data with non-linearly related features which are not normally distributed)"
   ],
   "metadata": {
    "collapsed": false
   }
  },
  {
   "cell_type": "code",
   "execution_count": null,
   "outputs": [],
   "source": [
    "scaler_abs = MaxAbsScaler()\n",
    "df_advert_prod_scaled_abs= scaler_abs.fit_transform(df_advert_prod)"
   ],
   "metadata": {
    "collapsed": false
   }
  },
  {
   "cell_type": "code",
   "execution_count": null,
   "outputs": [],
   "source": [
    "n_clusters = 4\n",
    "kmeans = KMeans(init='k-means++', n_clusters = n_clusters, n_init=30,max_iter=100)\n",
    "kmeans.fit(df_advert_prod_scaled_abs)\n",
    "clusters_clients = kmeans.predict(df_advert_prod_scaled_abs)\n",
    "silhouette_avg = silhouette_score(df_advert_prod_scaled_abs, clusters_clients)\n",
    "print('score de silhouette: {:<.3f}'.format(silhouette_avg))"
   ],
   "metadata": {
    "collapsed": false
   }
  },
  {
   "cell_type": "markdown",
   "source": [
    "checking sizes of clusters(I was afraid of ubnormally small ones)"
   ],
   "metadata": {
    "collapsed": false
   }
  },
  {
   "cell_type": "code",
   "execution_count": null,
   "outputs": [],
   "source": [
    "cluster_sizes = np.bincount(clusters_clients)\n",
    "print(\"Cluster sizes:\", cluster_sizes)"
   ],
   "metadata": {
    "collapsed": false
   }
  },
  {
   "cell_type": "markdown",
   "source": [
    "training/testing random forest for classifying data into one of the clusters"
   ],
   "metadata": {
    "collapsed": false
   }
  },
  {
   "cell_type": "code",
   "execution_count": null,
   "outputs": [],
   "source": [
    "labels = kmeans.labels_\n",
    "X_train, X_test, y_train, y_test = train_test_split(df_advert_prod_scaled_abs, labels, test_size=0.2)\n",
    "clf = RandomForestClassifier()\n",
    "clf.fit(X_train, y_train)\n",
    "y_pred = clf.predict(X_test)"
   ],
   "metadata": {
    "collapsed": false
   }
  },
  {
   "cell_type": "markdown",
   "source": [
    "visualizing learning curves for the forest"
   ],
   "metadata": {
    "collapsed": false
   }
  },
  {
   "cell_type": "code",
   "execution_count": null,
   "outputs": [],
   "source": [
    "train_sizes = np.linspace(0.1, 1.0, 10)\n",
    "train_sizes, train_scores, test_scores = learning_curve(clf, df_advert_prod_scaled_abs, labels, cv=5, n_jobs=-1,\n",
    "                                                        train_sizes=train_sizes, scoring='accuracy')\n",
    "train_mean = np.mean(train_scores, axis=1)\n",
    "train_std = np.std(train_scores, axis=1)\n",
    "test_mean = np.mean(test_scores, axis=1)\n",
    "test_std = np.std(test_scores, axis=1)\n",
    "plt.plot(train_sizes, train_mean, 'o-', color='r', label='Training Score')\n",
    "plt.plot(train_sizes, test_mean, 'o-', color='g', label='Cross-Validation Score')\n",
    "plt.fill_between(train_sizes, train_mean - train_std,\n",
    "                 train_mean + train_std, alpha=0.1, color='r')\n",
    "plt.fill_between(train_sizes, test_mean - test_std,\n",
    "                 test_mean + test_std, alpha=0.1, color='g')\n",
    "plt.xlabel('Training Set Size')\n",
    "plt.ylabel('Accuracy')\n",
    "plt.title('Learning Curves')\n",
    "plt.legend(loc='best')\n",
    "plt.show()"
   ],
   "metadata": {
    "collapsed": false
   }
  },
  {
   "cell_type": "markdown",
   "source": [
    "now trying KNN(spoiler-I have also tried some other models just to check,but their oerformance was even worse for obvious reasons)"
   ],
   "metadata": {
    "collapsed": false
   }
  },
  {
   "cell_type": "code",
   "execution_count": null,
   "outputs": [],
   "source": [
    "k_range = range(1, 31)\n",
    "cv_scores = []\n",
    "for k in k_range:\n",
    "    knn = KNeighborsClassifier(n_neighbors=k)\n",
    "    scores = cross_val_score(knn, df_advert_prod_scaled_abs, labels, cv=10, scoring='accuracy')\n",
    "    cv_scores.append(scores.mean())\n",
    "window_length = 7\n",
    "polyorder = 3\n",
    "smooth_cv_scores = savgol_filter(cv_scores, window_length, polyorder)\n",
    "plt.plot(k_range, smooth_cv_scores)\n",
    "plt.xlabel('Number of Neighbors')\n",
    "plt.ylabel('Accuracy')\n",
    "plt.title('Smoothed KNN Accuracy vs. Number of Neighbors')\n",
    "plt.show()"
   ],
   "metadata": {
    "collapsed": false
   }
  },
  {
   "cell_type": "markdown",
   "source": [
    "doing same visualization"
   ],
   "metadata": {
    "collapsed": false
   }
  },
  {
   "cell_type": "code",
   "execution_count": null,
   "outputs": [],
   "source": [
    "knn = KNeighborsClassifier(n_neighbors=10)\n",
    "train_sizes, train_scores, test_scores = learning_curve(knn, df_advert_prod_scaled_abs, labels, cv=10, n_jobs=-1)\n",
    "train_scores_mean = np.mean(train_scores, axis=1)\n",
    "train_scores_std = np.std(train_scores, axis=1)\n",
    "test_scores_mean = np.mean(test_scores, axis=1)\n",
    "test_scores_std = np.std(test_scores, axis=1)\n",
    "plt.fill_between(train_sizes, train_scores_mean - train_scores_std,\n",
    "                 train_scores_mean + train_scores_std, alpha=0.1,\n",
    "                 color=\"r\")\n",
    "plt.fill_between(train_sizes, test_scores_mean - test_scores_std,\n",
    "                 test_scores_mean + test_scores_std, alpha=0.1, color=\"g\")\n",
    "plt.plot(train_sizes, train_scores_mean, 'o-', color=\"r\",\n",
    "         label=\"Training score\")\n",
    "plt.plot(train_sizes, test_scores_mean, 'o-', color=\"g\",\n",
    "         label=\"Cross-validation score\")\n",
    "plt.legend(loc=\"best\")\n",
    "plt.xlabel(\"Training Examples\")\n",
    "plt.ylabel(\"Score\")\n",
    "plt.title(\"KNN Learning Curve\")\n",
    "plt.show()"
   ],
   "metadata": {
    "collapsed": false
   }
  },
  {
   "cell_type": "markdown",
   "source": [
    "actually setting the model so that it may be used further"
   ],
   "metadata": {
    "collapsed": false
   }
  },
  {
   "cell_type": "code",
   "execution_count": null,
   "outputs": [],
   "source": [
    "dump(knn, 'knn_classifier.joblib')"
   ],
   "metadata": {
    "collapsed": false
   }
  }
 ],
 "metadata": {
  "kernelspec": {
   "display_name": "Python 3",
   "language": "python",
   "name": "python3"
  },
  "language_info": {
   "codemirror_mode": {
    "name": "ipython",
    "version": 2
   },
   "file_extension": ".py",
   "mimetype": "text/x-python",
   "name": "python",
   "nbconvert_exporter": "python",
   "pygments_lexer": "ipython2",
   "version": "2.7.6"
  }
 },
 "nbformat": 4,
 "nbformat_minor": 0
}
